{
 "cells": [
  {
   "cell_type": "markdown",
   "metadata": {},
   "source": [
    "### Importing all the basic required libraires"
   ]
  },
  {
   "cell_type": "code",
   "execution_count": 4,
   "metadata": {},
   "outputs": [],
   "source": [
    "import numpy as np\n",
    "import pandas as pd\n",
    "import matplotlib.pyplot as plt\n",
    "import seaborn as sns\n",
    "from sklearn.model_selection import GridSearchCV\n",
    "import warnings\n",
    "warnings.filterwarnings('ignore')"
   ]
  },
  {
   "cell_type": "markdown",
   "metadata": {},
   "source": [
    "### Importing datasets"
   ]
  },
  {
   "cell_type": "code",
   "execution_count": 2,
   "metadata": {},
   "outputs": [
    {
     "name": "stdout",
     "output_type": "stream",
     "text": [
      "(8708, 9) (8708, 1)\n"
     ]
    }
   ],
   "source": [
    "data= pd.read_csv('Dataset/train.csv')\n",
    "target= pd.read_csv('Dataset/train_label.csv',header=None)\n",
    "print(data.shape,target.shape)"
   ]
  },
  {
   "cell_type": "markdown",
   "metadata": {},
   "source": [
    "## creating a copy of train dataset and add adding train traget to perform EDA on data3"
   ]
  },
  {
   "cell_type": "code",
   "execution_count": 3,
   "metadata": {},
   "outputs": [],
   "source": [
    "df=data.copy()"
   ]
  },
  {
   "cell_type": "code",
   "execution_count": 4,
   "metadata": {},
   "outputs": [
    {
     "data": {
      "text/html": [
       "<div>\n",
       "<style scoped>\n",
       "    .dataframe tbody tr th:only-of-type {\n",
       "        vertical-align: middle;\n",
       "    }\n",
       "\n",
       "    .dataframe tbody tr th {\n",
       "        vertical-align: top;\n",
       "    }\n",
       "\n",
       "    .dataframe thead th {\n",
       "        text-align: right;\n",
       "    }\n",
       "</style>\n",
       "<table border=\"1\" class=\"dataframe\">\n",
       "  <thead>\n",
       "    <tr style=\"text-align: right;\">\n",
       "      <th></th>\n",
       "      <th>datetime</th>\n",
       "      <th>season</th>\n",
       "      <th>holiday</th>\n",
       "      <th>workingday</th>\n",
       "      <th>weather</th>\n",
       "      <th>temp</th>\n",
       "      <th>atemp</th>\n",
       "      <th>humidity</th>\n",
       "      <th>windspeed</th>\n",
       "    </tr>\n",
       "  </thead>\n",
       "  <tbody>\n",
       "    <tr>\n",
       "      <th>0</th>\n",
       "      <td>5/2/2012 19:00</td>\n",
       "      <td>Summer</td>\n",
       "      <td>0</td>\n",
       "      <td>1</td>\n",
       "      <td>Clear + Few clouds</td>\n",
       "      <td>22.14</td>\n",
       "      <td>25.760</td>\n",
       "      <td>77</td>\n",
       "      <td>16.9979</td>\n",
       "    </tr>\n",
       "    <tr>\n",
       "      <th>1</th>\n",
       "      <td>9/5/2012 4:00</td>\n",
       "      <td>Fall</td>\n",
       "      <td>0</td>\n",
       "      <td>1</td>\n",
       "      <td>Clear + Few clouds</td>\n",
       "      <td>28.70</td>\n",
       "      <td>33.335</td>\n",
       "      <td>79</td>\n",
       "      <td>19.0012</td>\n",
       "    </tr>\n",
       "    <tr>\n",
       "      <th>2</th>\n",
       "      <td>1/13/2011 9:00</td>\n",
       "      <td>Spring</td>\n",
       "      <td>0</td>\n",
       "      <td>1</td>\n",
       "      <td>Clear + Few clouds</td>\n",
       "      <td>5.74</td>\n",
       "      <td>6.060</td>\n",
       "      <td>50</td>\n",
       "      <td>22.0028</td>\n",
       "    </tr>\n",
       "    <tr>\n",
       "      <th>3</th>\n",
       "      <td>11/18/2011 16:00</td>\n",
       "      <td>Winter</td>\n",
       "      <td>0</td>\n",
       "      <td>1</td>\n",
       "      <td>Clear + Few clouds</td>\n",
       "      <td>13.94</td>\n",
       "      <td>16.665</td>\n",
       "      <td>29</td>\n",
       "      <td>8.9981</td>\n",
       "    </tr>\n",
       "    <tr>\n",
       "      <th>4</th>\n",
       "      <td>9/13/2011 13:00</td>\n",
       "      <td>Fall</td>\n",
       "      <td>0</td>\n",
       "      <td>1</td>\n",
       "      <td>Clear + Few clouds</td>\n",
       "      <td>30.34</td>\n",
       "      <td>33.335</td>\n",
       "      <td>51</td>\n",
       "      <td>19.0012</td>\n",
       "    </tr>\n",
       "  </tbody>\n",
       "</table>\n",
       "</div>"
      ],
      "text/plain": [
       "           datetime  season  holiday  workingday              weather   temp  \\\n",
       "0    5/2/2012 19:00  Summer        0           1   Clear + Few clouds  22.14   \n",
       "1     9/5/2012 4:00    Fall        0           1   Clear + Few clouds  28.70   \n",
       "2    1/13/2011 9:00  Spring        0           1   Clear + Few clouds   5.74   \n",
       "3  11/18/2011 16:00  Winter        0           1   Clear + Few clouds  13.94   \n",
       "4   9/13/2011 13:00    Fall        0           1   Clear + Few clouds  30.34   \n",
       "\n",
       "    atemp  humidity  windspeed  \n",
       "0  25.760        77    16.9979  \n",
       "1  33.335        79    19.0012  \n",
       "2   6.060        50    22.0028  \n",
       "3  16.665        29     8.9981  \n",
       "4  33.335        51    19.0012  "
      ]
     },
     "execution_count": 4,
     "metadata": {},
     "output_type": "execute_result"
    }
   ],
   "source": [
    "df.head()"
   ]
  },
  {
   "cell_type": "code",
   "execution_count": 5,
   "metadata": {},
   "outputs": [],
   "source": [
    "df['target']=target"
   ]
  },
  {
   "cell_type": "code",
   "execution_count": 6,
   "metadata": {},
   "outputs": [
    {
     "data": {
      "text/html": [
       "<div>\n",
       "<style scoped>\n",
       "    .dataframe tbody tr th:only-of-type {\n",
       "        vertical-align: middle;\n",
       "    }\n",
       "\n",
       "    .dataframe tbody tr th {\n",
       "        vertical-align: top;\n",
       "    }\n",
       "\n",
       "    .dataframe thead th {\n",
       "        text-align: right;\n",
       "    }\n",
       "</style>\n",
       "<table border=\"1\" class=\"dataframe\">\n",
       "  <thead>\n",
       "    <tr style=\"text-align: right;\">\n",
       "      <th></th>\n",
       "      <th>datetime</th>\n",
       "      <th>season</th>\n",
       "      <th>holiday</th>\n",
       "      <th>workingday</th>\n",
       "      <th>weather</th>\n",
       "      <th>temp</th>\n",
       "      <th>atemp</th>\n",
       "      <th>humidity</th>\n",
       "      <th>windspeed</th>\n",
       "      <th>target</th>\n",
       "    </tr>\n",
       "  </thead>\n",
       "  <tbody>\n",
       "    <tr>\n",
       "      <th>0</th>\n",
       "      <td>5/2/2012 19:00</td>\n",
       "      <td>Summer</td>\n",
       "      <td>0</td>\n",
       "      <td>1</td>\n",
       "      <td>Clear + Few clouds</td>\n",
       "      <td>22.14</td>\n",
       "      <td>25.760</td>\n",
       "      <td>77</td>\n",
       "      <td>16.9979</td>\n",
       "      <td>504</td>\n",
       "    </tr>\n",
       "    <tr>\n",
       "      <th>1</th>\n",
       "      <td>9/5/2012 4:00</td>\n",
       "      <td>Fall</td>\n",
       "      <td>0</td>\n",
       "      <td>1</td>\n",
       "      <td>Clear + Few clouds</td>\n",
       "      <td>28.70</td>\n",
       "      <td>33.335</td>\n",
       "      <td>79</td>\n",
       "      <td>19.0012</td>\n",
       "      <td>5</td>\n",
       "    </tr>\n",
       "    <tr>\n",
       "      <th>2</th>\n",
       "      <td>1/13/2011 9:00</td>\n",
       "      <td>Spring</td>\n",
       "      <td>0</td>\n",
       "      <td>1</td>\n",
       "      <td>Clear + Few clouds</td>\n",
       "      <td>5.74</td>\n",
       "      <td>6.060</td>\n",
       "      <td>50</td>\n",
       "      <td>22.0028</td>\n",
       "      <td>139</td>\n",
       "    </tr>\n",
       "    <tr>\n",
       "      <th>3</th>\n",
       "      <td>11/18/2011 16:00</td>\n",
       "      <td>Winter</td>\n",
       "      <td>0</td>\n",
       "      <td>1</td>\n",
       "      <td>Clear + Few clouds</td>\n",
       "      <td>13.94</td>\n",
       "      <td>16.665</td>\n",
       "      <td>29</td>\n",
       "      <td>8.9981</td>\n",
       "      <td>209</td>\n",
       "    </tr>\n",
       "    <tr>\n",
       "      <th>4</th>\n",
       "      <td>9/13/2011 13:00</td>\n",
       "      <td>Fall</td>\n",
       "      <td>0</td>\n",
       "      <td>1</td>\n",
       "      <td>Clear + Few clouds</td>\n",
       "      <td>30.34</td>\n",
       "      <td>33.335</td>\n",
       "      <td>51</td>\n",
       "      <td>19.0012</td>\n",
       "      <td>184</td>\n",
       "    </tr>\n",
       "  </tbody>\n",
       "</table>\n",
       "</div>"
      ],
      "text/plain": [
       "           datetime  season  holiday  workingday              weather   temp  \\\n",
       "0    5/2/2012 19:00  Summer        0           1   Clear + Few clouds  22.14   \n",
       "1     9/5/2012 4:00    Fall        0           1   Clear + Few clouds  28.70   \n",
       "2    1/13/2011 9:00  Spring        0           1   Clear + Few clouds   5.74   \n",
       "3  11/18/2011 16:00  Winter        0           1   Clear + Few clouds  13.94   \n",
       "4   9/13/2011 13:00    Fall        0           1   Clear + Few clouds  30.34   \n",
       "\n",
       "    atemp  humidity  windspeed  target  \n",
       "0  25.760        77    16.9979     504  \n",
       "1  33.335        79    19.0012       5  \n",
       "2   6.060        50    22.0028     139  \n",
       "3  16.665        29     8.9981     209  \n",
       "4  33.335        51    19.0012     184  "
      ]
     },
     "execution_count": 6,
     "metadata": {},
     "output_type": "execute_result"
    }
   ],
   "source": [
    "df.head()"
   ]
  },
  {
   "cell_type": "code",
   "execution_count": 7,
   "metadata": {},
   "outputs": [
    {
     "name": "stdout",
     "output_type": "stream",
     "text": [
      "<class 'pandas.core.frame.DataFrame'>\n",
      "RangeIndex: 8708 entries, 0 to 8707\n",
      "Data columns (total 9 columns):\n",
      " #   Column      Non-Null Count  Dtype  \n",
      "---  ------      --------------  -----  \n",
      " 0   datetime    8708 non-null   object \n",
      " 1   season      8708 non-null   object \n",
      " 2   holiday     8708 non-null   int64  \n",
      " 3   workingday  8708 non-null   int64  \n",
      " 4   weather     8708 non-null   object \n",
      " 5   temp        8708 non-null   float64\n",
      " 6   atemp       8708 non-null   float64\n",
      " 7   humidity    8708 non-null   int64  \n",
      " 8   windspeed   8708 non-null   float64\n",
      "dtypes: float64(3), int64(3), object(3)\n",
      "memory usage: 612.4+ KB\n"
     ]
    }
   ],
   "source": [
    "data.info()"
   ]
  },
  {
   "cell_type": "code",
   "execution_count": 8,
   "metadata": {},
   "outputs": [],
   "source": [
    "df.datetime= pd.to_datetime(df.datetime) #coverting datatype to date time"
   ]
  },
  {
   "cell_type": "markdown",
   "metadata": {},
   "source": [
    "### extracting data from datetime"
   ]
  },
  {
   "cell_type": "code",
   "execution_count": 9,
   "metadata": {},
   "outputs": [],
   "source": [
    "df['hour'] = df.datetime.dt.hour\n",
    "df['day'] = df.datetime.dt.weekday\n",
    "df['month']=df.datetime.dt.month"
   ]
  },
  {
   "cell_type": "code",
   "execution_count": 10,
   "metadata": {},
   "outputs": [],
   "source": [
    "continues_cols=[ 'temp','atemp', 'humidity', 'windspeed']\n",
    "categorical_cols=['season', 'holiday', 'workingday', 'weather','hour','day']"
   ]
  },
  {
   "cell_type": "code",
   "execution_count": 11,
   "metadata": {},
   "outputs": [
    {
     "data": {
      "image/png": "[encoded data removed]",
      "text/plain": [
       "<Figure size 1080x576 with 6 Axes>"
      ]
     },
     "metadata": {
      "needs_background": "light"
     },
     "output_type": "display_data"
    }
   ],
   "source": [
    "plt.figure(figsize=(15,8))\n",
    "for index,col in enumerate(categorical_cols):               #using count plot to see different categories\n",
    "    plt.subplot(2,3,index+1)\n",
    "    sns.countplot(y=df[col])\n",
    "plt.show()"
   ]
  },
  {
   "cell_type": "markdown",
   "metadata": {},
   "source": [
    "##### as we can se that hoiday feature is totaly imbalnce and so we can drop it because working day and holiday\n",
    "##### both can porovide same inforamtion if there is no anamaly in data"
   ]
  },
  {
   "cell_type": "code",
   "execution_count": 12,
   "metadata": {},
   "outputs": [
    {
     "data": {
      "image/png": "[encoded data removed]",
      "text/plain": [
       "<Figure size 1080x720 with 6 Axes>"
      ]
     },
     "metadata": {
      "needs_background": "light"
     },
     "output_type": "display_data"
    }
   ],
   "source": [
    "# checking relation with target\n",
    "plt.figure(figsize=(15,10))\n",
    "for index,col in enumerate(categorical_cols):\n",
    "    plt.subplot(2,3,index+1)\n",
    "    df.groupby(col)['target'].median().plot.barh()\n",
    "plt.show()"
   ]
  },
  {
   "cell_type": "markdown",
   "metadata": {},
   "source": [
    "##### can see that hours,season,weather and working day are making impact on target\n",
    "there are more booking in morning that is office time and in the evening\n",
    "and in spring there is less number of bookings"
   ]
  },
  {
   "cell_type": "markdown",
   "metadata": {},
   "source": [
    "### checking correlation between the features"
   ]
  },
  {
   "cell_type": "code",
   "execution_count": 13,
   "metadata": {},
   "outputs": [
    {
     "data": {
      "image/png": "[encoded data removed]",
      "text/plain": [
       "<Figure size 576x576 with 2 Axes>"
      ]
     },
     "metadata": {
      "needs_background": "light"
     },
     "output_type": "display_data"
    }
   ],
   "source": [
    "plt.figure(figsize=(8,8))\n",
    "sns.heatmap(df.corr(),annot=True)\n",
    "plt.show()"
   ]
  },
  {
   "cell_type": "markdown",
   "metadata": {},
   "source": [
    "#### checking contineous data and its relation with target"
   ]
  },
  {
   "cell_type": "code",
   "execution_count": 14,
   "metadata": {
    "scrolled": true
   },
   "outputs": [
    {
     "data": {
      "image/png": "[encoded data removed]",
      "text/plain": [
       "<Figure size 720x432 with 4 Axes>"
      ]
     },
     "metadata": {
      "needs_background": "light"
     },
     "output_type": "display_data"
    }
   ],
   "source": [
    "plt.figure(figsize=(10,6))\n",
    "for index,col in enumerate(continues_cols):\n",
    "    plt.subplot(2,2,index+1)\n",
    "    sns.scatterplot(x=col,y='target',data=df)\n",
    "plt.show()"
   ]
  },
  {
   "cell_type": "markdown",
   "metadata": {},
   "source": [
    "##### as we can obseve no coleraltion between target and pridicoters linear model will not work efficiently\n",
    "so we will try other non liner models for priditions"
   ]
  },
  {
   "cell_type": "code",
   "execution_count": 15,
   "metadata": {},
   "outputs": [
    {
     "data": {
      "image/png": "[encoded data removed]",
      "text/plain": [
       "<Figure size 432x288 with 1 Axes>"
      ]
     },
     "metadata": {
      "needs_background": "light"
     },
     "output_type": "display_data"
    },
    {
     "data": {
      "image/png": "[encoded data removed]",
      "text/plain": [
       "<Figure size 432x288 with 1 Axes>"
      ]
     },
     "metadata": {
      "needs_background": "light"
     },
     "output_type": "display_data"
    },
    {
     "data": {
      "image/png": "[encoded data removed]",
      "text/plain": [
       "<Figure size 432x288 with 1 Axes>"
      ]
     },
     "metadata": {
      "needs_background": "light"
     },
     "output_type": "display_data"
    },
    {
     "data": {
      "image/png": "[encoded data removed]",
      "text/plain": [
       "<Figure size 432x288 with 1 Axes>"
      ]
     },
     "metadata": {
      "needs_background": "light"
     },
     "output_type": "display_data"
    }
   ],
   "source": [
    "for col in continues_cols:\n",
    "    sns.boxplot(col,data=df)\n",
    "    plt.show()"
   ]
  },
  {
   "cell_type": "code",
   "execution_count": null,
   "metadata": {},
   "outputs": [],
   "source": []
  },
  {
   "cell_type": "code",
   "execution_count": null,
   "metadata": {},
   "outputs": [],
   "source": []
  },
  {
   "cell_type": "markdown",
   "metadata": {},
   "source": [
    "#### target and windspeed have values looking like outliers but sumtimes its possible to have that much bookings and windspeed\n",
    "so using models which are robust to outliers can be handy here"
   ]
  },
  {
   "cell_type": "markdown",
   "metadata": {},
   "source": [
    "# Feature Engineering"
   ]
  },
  {
   "cell_type": "code",
   "execution_count": 5,
   "metadata": {},
   "outputs": [
    {
     "name": "stdout",
     "output_type": "stream",
     "text": [
      "(8708, 9) (8708, 1) (2178, 9) (2178, 1)\n"
     ]
    }
   ],
   "source": [
    "# importting all datasets\n",
    "X_train= pd.read_csv('Dataset/train.csv')\n",
    "y_train= pd.read_csv('Dataset/train_label.csv',header=None)\n",
    "X_test=pd.read_csv('Dataset/test.csv')\n",
    "y_test = pd.read_csv('Dataset/test_label.csv',header=None)\n",
    "print(X_train.shape,y_train.shape,X_test.shape,y_test.shape)"
   ]
  },
  {
   "cell_type": "code",
   "execution_count": 6,
   "metadata": {},
   "outputs": [],
   "source": [
    "# converting datetime datatype\n",
    "def to_datetime(data,col):\n",
    "    df = data.copy()\n",
    "    df[col]=pd.to_datetime(df[col])\n",
    "    return df"
   ]
  },
  {
   "cell_type": "code",
   "execution_count": 7,
   "metadata": {},
   "outputs": [],
   "source": [
    "X_train=to_datetime(X_train,'datetime')\n",
    "X_test=to_datetime(X_test,'datetime')"
   ]
  },
  {
   "cell_type": "code",
   "execution_count": 8,
   "metadata": {},
   "outputs": [],
   "source": [
    "# extracting features from datetime column\n",
    "def extract_from_date(data):\n",
    "    df = data.copy()\n",
    "    df['day'] = df.datetime.dt.weekday\n",
    "    df['hour'] = df.datetime.dt.hour\n",
    "    df['month'] = df.datetime.dt.month\n",
    "    df.drop('datetime',axis=1,inplace=True)\n",
    "    return df"
   ]
  },
  {
   "cell_type": "code",
   "execution_count": 9,
   "metadata": {
    "scrolled": false
   },
   "outputs": [],
   "source": [
    "X_train = extract_from_date(X_train)\n",
    "X_test = extract_from_date(X_test)"
   ]
  },
  {
   "cell_type": "code",
   "execution_count": 10,
   "metadata": {},
   "outputs": [
    {
     "data": {
      "text/html": [
       "<div>\n",
       "<style scoped>\n",
       "    .dataframe tbody tr th:only-of-type {\n",
       "        vertical-align: middle;\n",
       "    }\n",
       "\n",
       "    .dataframe tbody tr th {\n",
       "        vertical-align: top;\n",
       "    }\n",
       "\n",
       "    .dataframe thead th {\n",
       "        text-align: right;\n",
       "    }\n",
       "</style>\n",
       "<table border=\"1\" class=\"dataframe\">\n",
       "  <thead>\n",
       "    <tr style=\"text-align: right;\">\n",
       "      <th></th>\n",
       "      <th>season</th>\n",
       "      <th>holiday</th>\n",
       "      <th>workingday</th>\n",
       "      <th>weather</th>\n",
       "      <th>temp</th>\n",
       "      <th>atemp</th>\n",
       "      <th>humidity</th>\n",
       "      <th>windspeed</th>\n",
       "      <th>day</th>\n",
       "      <th>hour</th>\n",
       "      <th>month</th>\n",
       "    </tr>\n",
       "  </thead>\n",
       "  <tbody>\n",
       "    <tr>\n",
       "      <th>0</th>\n",
       "      <td>Summer</td>\n",
       "      <td>0</td>\n",
       "      <td>1</td>\n",
       "      <td>Clear + Few clouds</td>\n",
       "      <td>22.14</td>\n",
       "      <td>25.760</td>\n",
       "      <td>77</td>\n",
       "      <td>16.9979</td>\n",
       "      <td>2</td>\n",
       "      <td>19</td>\n",
       "      <td>5</td>\n",
       "    </tr>\n",
       "    <tr>\n",
       "      <th>1</th>\n",
       "      <td>Fall</td>\n",
       "      <td>0</td>\n",
       "      <td>1</td>\n",
       "      <td>Clear + Few clouds</td>\n",
       "      <td>28.70</td>\n",
       "      <td>33.335</td>\n",
       "      <td>79</td>\n",
       "      <td>19.0012</td>\n",
       "      <td>2</td>\n",
       "      <td>4</td>\n",
       "      <td>9</td>\n",
       "    </tr>\n",
       "    <tr>\n",
       "      <th>2</th>\n",
       "      <td>Spring</td>\n",
       "      <td>0</td>\n",
       "      <td>1</td>\n",
       "      <td>Clear + Few clouds</td>\n",
       "      <td>5.74</td>\n",
       "      <td>6.060</td>\n",
       "      <td>50</td>\n",
       "      <td>22.0028</td>\n",
       "      <td>3</td>\n",
       "      <td>9</td>\n",
       "      <td>1</td>\n",
       "    </tr>\n",
       "    <tr>\n",
       "      <th>3</th>\n",
       "      <td>Winter</td>\n",
       "      <td>0</td>\n",
       "      <td>1</td>\n",
       "      <td>Clear + Few clouds</td>\n",
       "      <td>13.94</td>\n",
       "      <td>16.665</td>\n",
       "      <td>29</td>\n",
       "      <td>8.9981</td>\n",
       "      <td>4</td>\n",
       "      <td>16</td>\n",
       "      <td>11</td>\n",
       "    </tr>\n",
       "    <tr>\n",
       "      <th>4</th>\n",
       "      <td>Fall</td>\n",
       "      <td>0</td>\n",
       "      <td>1</td>\n",
       "      <td>Clear + Few clouds</td>\n",
       "      <td>30.34</td>\n",
       "      <td>33.335</td>\n",
       "      <td>51</td>\n",
       "      <td>19.0012</td>\n",
       "      <td>1</td>\n",
       "      <td>13</td>\n",
       "      <td>9</td>\n",
       "    </tr>\n",
       "    <tr>\n",
       "      <th>...</th>\n",
       "      <td>...</td>\n",
       "      <td>...</td>\n",
       "      <td>...</td>\n",
       "      <td>...</td>\n",
       "      <td>...</td>\n",
       "      <td>...</td>\n",
       "      <td>...</td>\n",
       "      <td>...</td>\n",
       "      <td>...</td>\n",
       "      <td>...</td>\n",
       "      <td>...</td>\n",
       "    </tr>\n",
       "    <tr>\n",
       "      <th>8703</th>\n",
       "      <td>Spring</td>\n",
       "      <td>1</td>\n",
       "      <td>0</td>\n",
       "      <td>Clear + Few clouds</td>\n",
       "      <td>4.10</td>\n",
       "      <td>6.820</td>\n",
       "      <td>54</td>\n",
       "      <td>6.0032</td>\n",
       "      <td>0</td>\n",
       "      <td>6</td>\n",
       "      <td>1</td>\n",
       "    </tr>\n",
       "    <tr>\n",
       "      <th>8704</th>\n",
       "      <td>Winter</td>\n",
       "      <td>0</td>\n",
       "      <td>1</td>\n",
       "      <td>Mist + Cloudy</td>\n",
       "      <td>16.40</td>\n",
       "      <td>20.455</td>\n",
       "      <td>87</td>\n",
       "      <td>0.0000</td>\n",
       "      <td>3</td>\n",
       "      <td>1</td>\n",
       "      <td>11</td>\n",
       "    </tr>\n",
       "    <tr>\n",
       "      <th>8705</th>\n",
       "      <td>Summer</td>\n",
       "      <td>0</td>\n",
       "      <td>1</td>\n",
       "      <td>Mist + Cloudy</td>\n",
       "      <td>23.78</td>\n",
       "      <td>27.275</td>\n",
       "      <td>56</td>\n",
       "      <td>8.9981</td>\n",
       "      <td>1</td>\n",
       "      <td>3</td>\n",
       "      <td>4</td>\n",
       "    </tr>\n",
       "    <tr>\n",
       "      <th>8706</th>\n",
       "      <td>Winter</td>\n",
       "      <td>0</td>\n",
       "      <td>1</td>\n",
       "      <td>Mist + Cloudy</td>\n",
       "      <td>11.48</td>\n",
       "      <td>13.635</td>\n",
       "      <td>61</td>\n",
       "      <td>16.9979</td>\n",
       "      <td>2</td>\n",
       "      <td>1</td>\n",
       "      <td>11</td>\n",
       "    </tr>\n",
       "    <tr>\n",
       "      <th>8707</th>\n",
       "      <td>Spring</td>\n",
       "      <td>0</td>\n",
       "      <td>1</td>\n",
       "      <td>Mist + Cloudy</td>\n",
       "      <td>5.74</td>\n",
       "      <td>6.060</td>\n",
       "      <td>50</td>\n",
       "      <td>19.9995</td>\n",
       "      <td>0</td>\n",
       "      <td>10</td>\n",
       "      <td>1</td>\n",
       "    </tr>\n",
       "  </tbody>\n",
       "</table>\n",
       "<p>8708 rows × 11 columns</p>\n",
       "</div>"
      ],
      "text/plain": [
       "      season  holiday  workingday              weather   temp   atemp  \\\n",
       "0     Summer        0           1   Clear + Few clouds  22.14  25.760   \n",
       "1       Fall        0           1   Clear + Few clouds  28.70  33.335   \n",
       "2     Spring        0           1   Clear + Few clouds   5.74   6.060   \n",
       "3     Winter        0           1   Clear + Few clouds  13.94  16.665   \n",
       "4       Fall        0           1   Clear + Few clouds  30.34  33.335   \n",
       "...      ...      ...         ...                  ...    ...     ...   \n",
       "8703  Spring        1           0   Clear + Few clouds   4.10   6.820   \n",
       "8704  Winter        0           1       Mist + Cloudy   16.40  20.455   \n",
       "8705  Summer        0           1       Mist + Cloudy   23.78  27.275   \n",
       "8706  Winter        0           1       Mist + Cloudy   11.48  13.635   \n",
       "8707  Spring        0           1       Mist + Cloudy    5.74   6.060   \n",
       "\n",
       "      humidity  windspeed  day  hour  month  \n",
       "0           77    16.9979    2    19      5  \n",
       "1           79    19.0012    2     4      9  \n",
       "2           50    22.0028    3     9      1  \n",
       "3           29     8.9981    4    16     11  \n",
       "4           51    19.0012    1    13      9  \n",
       "...        ...        ...  ...   ...    ...  \n",
       "8703        54     6.0032    0     6      1  \n",
       "8704        87     0.0000    3     1     11  \n",
       "8705        56     8.9981    1     3      4  \n",
       "8706        61    16.9979    2     1     11  \n",
       "8707        50    19.9995    0    10      1  \n",
       "\n",
       "[8708 rows x 11 columns]"
      ]
     },
     "execution_count": 10,
     "metadata": {},
     "output_type": "execute_result"
    }
   ],
   "source": [
    "X_train"
   ]
  },
  {
   "cell_type": "code",
   "execution_count": 11,
   "metadata": {},
   "outputs": [],
   "source": [
    "# hendling categorical data with dummy variables and droing 1st to avoid dummy variables trap\n",
    "X_train = pd.get_dummies(X_train,drop_first=True)\n",
    "X_test=pd.get_dummies(X_test,drop_first=True)\n"
   ]
  },
  {
   "cell_type": "code",
   "execution_count": 12,
   "metadata": {},
   "outputs": [
    {
     "data": {
      "text/html": [
       "<div>\n",
       "<style scoped>\n",
       "    .dataframe tbody tr th:only-of-type {\n",
       "        vertical-align: middle;\n",
       "    }\n",
       "\n",
       "    .dataframe tbody tr th {\n",
       "        vertical-align: top;\n",
       "    }\n",
       "\n",
       "    .dataframe thead th {\n",
       "        text-align: right;\n",
       "    }\n",
       "</style>\n",
       "<table border=\"1\" class=\"dataframe\">\n",
       "  <thead>\n",
       "    <tr style=\"text-align: right;\">\n",
       "      <th></th>\n",
       "      <th>holiday</th>\n",
       "      <th>workingday</th>\n",
       "      <th>temp</th>\n",
       "      <th>atemp</th>\n",
       "      <th>humidity</th>\n",
       "      <th>windspeed</th>\n",
       "      <th>day</th>\n",
       "      <th>hour</th>\n",
       "      <th>month</th>\n",
       "      <th>season_Spring</th>\n",
       "      <th>season_Summer</th>\n",
       "      <th>season_Winter</th>\n",
       "      <th>weather_ Heavy Rain + Thunderstorm</th>\n",
       "      <th>weather_ Light Snow, Light Rain</th>\n",
       "      <th>weather_ Mist + Cloudy</th>\n",
       "    </tr>\n",
       "  </thead>\n",
       "  <tbody>\n",
       "    <tr>\n",
       "      <th>0</th>\n",
       "      <td>0</td>\n",
       "      <td>1</td>\n",
       "      <td>22.14</td>\n",
       "      <td>25.760</td>\n",
       "      <td>77</td>\n",
       "      <td>16.9979</td>\n",
       "      <td>2</td>\n",
       "      <td>19</td>\n",
       "      <td>5</td>\n",
       "      <td>0</td>\n",
       "      <td>1</td>\n",
       "      <td>0</td>\n",
       "      <td>0</td>\n",
       "      <td>0</td>\n",
       "      <td>0</td>\n",
       "    </tr>\n",
       "    <tr>\n",
       "      <th>1</th>\n",
       "      <td>0</td>\n",
       "      <td>1</td>\n",
       "      <td>28.70</td>\n",
       "      <td>33.335</td>\n",
       "      <td>79</td>\n",
       "      <td>19.0012</td>\n",
       "      <td>2</td>\n",
       "      <td>4</td>\n",
       "      <td>9</td>\n",
       "      <td>0</td>\n",
       "      <td>0</td>\n",
       "      <td>0</td>\n",
       "      <td>0</td>\n",
       "      <td>0</td>\n",
       "      <td>0</td>\n",
       "    </tr>\n",
       "    <tr>\n",
       "      <th>2</th>\n",
       "      <td>0</td>\n",
       "      <td>1</td>\n",
       "      <td>5.74</td>\n",
       "      <td>6.060</td>\n",
       "      <td>50</td>\n",
       "      <td>22.0028</td>\n",
       "      <td>3</td>\n",
       "      <td>9</td>\n",
       "      <td>1</td>\n",
       "      <td>1</td>\n",
       "      <td>0</td>\n",
       "      <td>0</td>\n",
       "      <td>0</td>\n",
       "      <td>0</td>\n",
       "      <td>0</td>\n",
       "    </tr>\n",
       "    <tr>\n",
       "      <th>3</th>\n",
       "      <td>0</td>\n",
       "      <td>1</td>\n",
       "      <td>13.94</td>\n",
       "      <td>16.665</td>\n",
       "      <td>29</td>\n",
       "      <td>8.9981</td>\n",
       "      <td>4</td>\n",
       "      <td>16</td>\n",
       "      <td>11</td>\n",
       "      <td>0</td>\n",
       "      <td>0</td>\n",
       "      <td>1</td>\n",
       "      <td>0</td>\n",
       "      <td>0</td>\n",
       "      <td>0</td>\n",
       "    </tr>\n",
       "    <tr>\n",
       "      <th>4</th>\n",
       "      <td>0</td>\n",
       "      <td>1</td>\n",
       "      <td>30.34</td>\n",
       "      <td>33.335</td>\n",
       "      <td>51</td>\n",
       "      <td>19.0012</td>\n",
       "      <td>1</td>\n",
       "      <td>13</td>\n",
       "      <td>9</td>\n",
       "      <td>0</td>\n",
       "      <td>0</td>\n",
       "      <td>0</td>\n",
       "      <td>0</td>\n",
       "      <td>0</td>\n",
       "      <td>0</td>\n",
       "    </tr>\n",
       "  </tbody>\n",
       "</table>\n",
       "</div>"
      ],
      "text/plain": [
       "   holiday  workingday   temp   atemp  humidity  windspeed  day  hour  month  \\\n",
       "0        0           1  22.14  25.760        77    16.9979    2    19      5   \n",
       "1        0           1  28.70  33.335        79    19.0012    2     4      9   \n",
       "2        0           1   5.74   6.060        50    22.0028    3     9      1   \n",
       "3        0           1  13.94  16.665        29     8.9981    4    16     11   \n",
       "4        0           1  30.34  33.335        51    19.0012    1    13      9   \n",
       "\n",
       "   season_Spring  season_Summer  season_Winter  \\\n",
       "0              0              1              0   \n",
       "1              0              0              0   \n",
       "2              1              0              0   \n",
       "3              0              0              1   \n",
       "4              0              0              0   \n",
       "\n",
       "   weather_ Heavy Rain + Thunderstorm   weather_ Light Snow, Light Rain  \\\n",
       "0                                    0                                0   \n",
       "1                                    0                                0   \n",
       "2                                    0                                0   \n",
       "3                                    0                                0   \n",
       "4                                    0                                0   \n",
       "\n",
       "   weather_ Mist + Cloudy   \n",
       "0                        0  \n",
       "1                        0  \n",
       "2                        0  \n",
       "3                        0  \n",
       "4                        0  "
      ]
     },
     "execution_count": 12,
     "metadata": {},
     "output_type": "execute_result"
    }
   ],
   "source": [
    "X_train.head()"
   ]
  },
  {
   "cell_type": "code",
   "execution_count": 13,
   "metadata": {},
   "outputs": [
    {
     "data": {
      "text/html": [
       "<div>\n",
       "<style scoped>\n",
       "    .dataframe tbody tr th:only-of-type {\n",
       "        vertical-align: middle;\n",
       "    }\n",
       "\n",
       "    .dataframe tbody tr th {\n",
       "        vertical-align: top;\n",
       "    }\n",
       "\n",
       "    .dataframe thead th {\n",
       "        text-align: right;\n",
       "    }\n",
       "</style>\n",
       "<table border=\"1\" class=\"dataframe\">\n",
       "  <thead>\n",
       "    <tr style=\"text-align: right;\">\n",
       "      <th></th>\n",
       "      <th>holiday</th>\n",
       "      <th>workingday</th>\n",
       "      <th>temp</th>\n",
       "      <th>atemp</th>\n",
       "      <th>humidity</th>\n",
       "      <th>windspeed</th>\n",
       "      <th>day</th>\n",
       "      <th>hour</th>\n",
       "      <th>month</th>\n",
       "      <th>season_Spring</th>\n",
       "      <th>season_Summer</th>\n",
       "      <th>season_Winter</th>\n",
       "      <th>weather_ Light Snow, Light Rain</th>\n",
       "      <th>weather_ Mist + Cloudy</th>\n",
       "    </tr>\n",
       "  </thead>\n",
       "  <tbody>\n",
       "    <tr>\n",
       "      <th>0</th>\n",
       "      <td>0</td>\n",
       "      <td>1</td>\n",
       "      <td>21.32</td>\n",
       "      <td>25.000</td>\n",
       "      <td>48</td>\n",
       "      <td>35.0008</td>\n",
       "      <td>3</td>\n",
       "      <td>11</td>\n",
       "      <td>5</td>\n",
       "      <td>0</td>\n",
       "      <td>1</td>\n",
       "      <td>0</td>\n",
       "      <td>0</td>\n",
       "      <td>0</td>\n",
       "    </tr>\n",
       "    <tr>\n",
       "      <th>1</th>\n",
       "      <td>0</td>\n",
       "      <td>0</td>\n",
       "      <td>23.78</td>\n",
       "      <td>27.275</td>\n",
       "      <td>64</td>\n",
       "      <td>7.0015</td>\n",
       "      <td>5</td>\n",
       "      <td>7</td>\n",
       "      <td>6</td>\n",
       "      <td>0</td>\n",
       "      <td>1</td>\n",
       "      <td>0</td>\n",
       "      <td>0</td>\n",
       "      <td>0</td>\n",
       "    </tr>\n",
       "    <tr>\n",
       "      <th>2</th>\n",
       "      <td>0</td>\n",
       "      <td>0</td>\n",
       "      <td>11.48</td>\n",
       "      <td>12.120</td>\n",
       "      <td>100</td>\n",
       "      <td>27.9993</td>\n",
       "      <td>6</td>\n",
       "      <td>20</td>\n",
       "      <td>3</td>\n",
       "      <td>1</td>\n",
       "      <td>0</td>\n",
       "      <td>0</td>\n",
       "      <td>1</td>\n",
       "      <td>0</td>\n",
       "    </tr>\n",
       "    <tr>\n",
       "      <th>3</th>\n",
       "      <td>0</td>\n",
       "      <td>1</td>\n",
       "      <td>25.42</td>\n",
       "      <td>28.790</td>\n",
       "      <td>83</td>\n",
       "      <td>0.0000</td>\n",
       "      <td>3</td>\n",
       "      <td>11</td>\n",
       "      <td>10</td>\n",
       "      <td>0</td>\n",
       "      <td>0</td>\n",
       "      <td>1</td>\n",
       "      <td>0</td>\n",
       "      <td>1</td>\n",
       "    </tr>\n",
       "    <tr>\n",
       "      <th>4</th>\n",
       "      <td>0</td>\n",
       "      <td>0</td>\n",
       "      <td>25.42</td>\n",
       "      <td>31.060</td>\n",
       "      <td>43</td>\n",
       "      <td>23.9994</td>\n",
       "      <td>5</td>\n",
       "      <td>12</td>\n",
       "      <td>6</td>\n",
       "      <td>0</td>\n",
       "      <td>1</td>\n",
       "      <td>0</td>\n",
       "      <td>0</td>\n",
       "      <td>0</td>\n",
       "    </tr>\n",
       "  </tbody>\n",
       "</table>\n",
       "</div>"
      ],
      "text/plain": [
       "   holiday  workingday   temp   atemp  humidity  windspeed  day  hour  month  \\\n",
       "0        0           1  21.32  25.000        48    35.0008    3    11      5   \n",
       "1        0           0  23.78  27.275        64     7.0015    5     7      6   \n",
       "2        0           0  11.48  12.120       100    27.9993    6    20      3   \n",
       "3        0           1  25.42  28.790        83     0.0000    3    11     10   \n",
       "4        0           0  25.42  31.060        43    23.9994    5    12      6   \n",
       "\n",
       "   season_Spring  season_Summer  season_Winter  \\\n",
       "0              0              1              0   \n",
       "1              0              1              0   \n",
       "2              1              0              0   \n",
       "3              0              0              1   \n",
       "4              0              1              0   \n",
       "\n",
       "   weather_ Light Snow, Light Rain  weather_ Mist + Cloudy   \n",
       "0                                0                        0  \n",
       "1                                0                        0  \n",
       "2                                1                        0  \n",
       "3                                0                        1  \n",
       "4                                0                        0  "
      ]
     },
     "execution_count": 13,
     "metadata": {},
     "output_type": "execute_result"
    }
   ],
   "source": [
    "X_test.head()"
   ]
  },
  {
   "cell_type": "markdown",
   "metadata": {},
   "source": [
    "### 'weather_ Heavy Rain + Thunderstorm ' feature is not present in test data so i will create this feature in test data with zero values for making prediction"
   ]
  },
  {
   "cell_type": "code",
   "execution_count": 14,
   "metadata": {},
   "outputs": [],
   "source": [
    "X_test['weather_ Heavy Rain + Thunderstorm ']=np.zeros(len(X_test))"
   ]
  },
  {
   "cell_type": "code",
   "execution_count": 15,
   "metadata": {},
   "outputs": [
    {
     "data": {
      "text/html": [
       "<div>\n",
       "<style scoped>\n",
       "    .dataframe tbody tr th:only-of-type {\n",
       "        vertical-align: middle;\n",
       "    }\n",
       "\n",
       "    .dataframe tbody tr th {\n",
       "        vertical-align: top;\n",
       "    }\n",
       "\n",
       "    .dataframe thead th {\n",
       "        text-align: right;\n",
       "    }\n",
       "</style>\n",
       "<table border=\"1\" class=\"dataframe\">\n",
       "  <thead>\n",
       "    <tr style=\"text-align: right;\">\n",
       "      <th></th>\n",
       "      <th>holiday</th>\n",
       "      <th>workingday</th>\n",
       "      <th>temp</th>\n",
       "      <th>atemp</th>\n",
       "      <th>humidity</th>\n",
       "      <th>windspeed</th>\n",
       "      <th>day</th>\n",
       "      <th>hour</th>\n",
       "      <th>month</th>\n",
       "      <th>season_Spring</th>\n",
       "      <th>season_Summer</th>\n",
       "      <th>season_Winter</th>\n",
       "      <th>weather_ Light Snow, Light Rain</th>\n",
       "      <th>weather_ Mist + Cloudy</th>\n",
       "      <th>weather_ Heavy Rain + Thunderstorm</th>\n",
       "    </tr>\n",
       "  </thead>\n",
       "  <tbody>\n",
       "    <tr>\n",
       "      <th>0</th>\n",
       "      <td>0</td>\n",
       "      <td>1</td>\n",
       "      <td>21.32</td>\n",
       "      <td>25.0</td>\n",
       "      <td>48</td>\n",
       "      <td>35.0008</td>\n",
       "      <td>3</td>\n",
       "      <td>11</td>\n",
       "      <td>5</td>\n",
       "      <td>0</td>\n",
       "      <td>1</td>\n",
       "      <td>0</td>\n",
       "      <td>0</td>\n",
       "      <td>0</td>\n",
       "      <td>0.0</td>\n",
       "    </tr>\n",
       "  </tbody>\n",
       "</table>\n",
       "</div>"
      ],
      "text/plain": [
       "   holiday  workingday   temp  atemp  humidity  windspeed  day  hour  month  \\\n",
       "0        0           1  21.32   25.0        48    35.0008    3    11      5   \n",
       "\n",
       "   season_Spring  season_Summer  season_Winter  \\\n",
       "0              0              1              0   \n",
       "\n",
       "   weather_ Light Snow, Light Rain  weather_ Mist + Cloudy   \\\n",
       "0                                0                        0   \n",
       "\n",
       "   weather_ Heavy Rain + Thunderstorm   \n",
       "0                                  0.0  "
      ]
     },
     "execution_count": 15,
     "metadata": {},
     "output_type": "execute_result"
    }
   ],
   "source": [
    "X_test.head(1)"
   ]
  },
  {
   "cell_type": "code",
   "execution_count": 16,
   "metadata": {},
   "outputs": [
    {
     "data": {
      "text/html": [
       "<div>\n",
       "<style scoped>\n",
       "    .dataframe tbody tr th:only-of-type {\n",
       "        vertical-align: middle;\n",
       "    }\n",
       "\n",
       "    .dataframe tbody tr th {\n",
       "        vertical-align: top;\n",
       "    }\n",
       "\n",
       "    .dataframe thead th {\n",
       "        text-align: right;\n",
       "    }\n",
       "</style>\n",
       "<table border=\"1\" class=\"dataframe\">\n",
       "  <thead>\n",
       "    <tr style=\"text-align: right;\">\n",
       "      <th></th>\n",
       "      <th>holiday</th>\n",
       "      <th>workingday</th>\n",
       "      <th>temp</th>\n",
       "      <th>atemp</th>\n",
       "      <th>humidity</th>\n",
       "      <th>windspeed</th>\n",
       "      <th>day</th>\n",
       "      <th>hour</th>\n",
       "      <th>month</th>\n",
       "      <th>season_Spring</th>\n",
       "      <th>season_Summer</th>\n",
       "      <th>season_Winter</th>\n",
       "      <th>weather_ Heavy Rain + Thunderstorm</th>\n",
       "      <th>weather_ Light Snow, Light Rain</th>\n",
       "      <th>weather_ Mist + Cloudy</th>\n",
       "    </tr>\n",
       "  </thead>\n",
       "  <tbody>\n",
       "    <tr>\n",
       "      <th>0</th>\n",
       "      <td>0</td>\n",
       "      <td>1</td>\n",
       "      <td>22.14</td>\n",
       "      <td>25.76</td>\n",
       "      <td>77</td>\n",
       "      <td>16.9979</td>\n",
       "      <td>2</td>\n",
       "      <td>19</td>\n",
       "      <td>5</td>\n",
       "      <td>0</td>\n",
       "      <td>1</td>\n",
       "      <td>0</td>\n",
       "      <td>0</td>\n",
       "      <td>0</td>\n",
       "      <td>0</td>\n",
       "    </tr>\n",
       "  </tbody>\n",
       "</table>\n",
       "</div>"
      ],
      "text/plain": [
       "   holiday  workingday   temp  atemp  humidity  windspeed  day  hour  month  \\\n",
       "0        0           1  22.14  25.76        77    16.9979    2    19      5   \n",
       "\n",
       "   season_Spring  season_Summer  season_Winter  \\\n",
       "0              0              1              0   \n",
       "\n",
       "   weather_ Heavy Rain + Thunderstorm   weather_ Light Snow, Light Rain  \\\n",
       "0                                    0                                0   \n",
       "\n",
       "   weather_ Mist + Cloudy   \n",
       "0                        0  "
      ]
     },
     "execution_count": 16,
     "metadata": {},
     "output_type": "execute_result"
    }
   ],
   "source": [
    "X_train.head(1)"
   ]
  },
  {
   "cell_type": "markdown",
   "metadata": {},
   "source": [
    "### re-arranging columns of test to match with train"
   ]
  },
  {
   "cell_type": "code",
   "execution_count": 17,
   "metadata": {},
   "outputs": [
    {
     "data": {
      "text/plain": [
       "Index(['holiday', 'workingday', 'temp', 'atemp', 'humidity', 'windspeed',\n",
       "       'day', 'hour', 'month', 'season_Spring', 'season_Summer',\n",
       "       'season_Winter', 'weather_ Light Snow, Light Rain',\n",
       "       'weather_ Mist + Cloudy ', 'weather_ Heavy Rain + Thunderstorm '],\n",
       "      dtype='object')"
      ]
     },
     "execution_count": 17,
     "metadata": {},
     "output_type": "execute_result"
    }
   ],
   "source": [
    "X_test.columns"
   ]
  },
  {
   "cell_type": "code",
   "execution_count": 18,
   "metadata": {},
   "outputs": [],
   "source": [
    "X_test=X_test[['holiday', 'workingday', 'temp', 'atemp', 'humidity',\n",
    "       'windspeed','day', 'hour','month', 'season_Spring', 'season_Summer',\n",
    "       'season_Winter', 'weather_ Heavy Rain + Thunderstorm ', 'weather_ Light Snow, Light Rain',\n",
    "       'weather_ Mist + Cloudy ']]"
   ]
  },
  {
   "cell_type": "code",
   "execution_count": 19,
   "metadata": {},
   "outputs": [
    {
     "data": {
      "text/html": [
       "<div>\n",
       "<style scoped>\n",
       "    .dataframe tbody tr th:only-of-type {\n",
       "        vertical-align: middle;\n",
       "    }\n",
       "\n",
       "    .dataframe tbody tr th {\n",
       "        vertical-align: top;\n",
       "    }\n",
       "\n",
       "    .dataframe thead th {\n",
       "        text-align: right;\n",
       "    }\n",
       "</style>\n",
       "<table border=\"1\" class=\"dataframe\">\n",
       "  <thead>\n",
       "    <tr style=\"text-align: right;\">\n",
       "      <th></th>\n",
       "      <th>holiday</th>\n",
       "      <th>workingday</th>\n",
       "      <th>temp</th>\n",
       "      <th>atemp</th>\n",
       "      <th>humidity</th>\n",
       "      <th>windspeed</th>\n",
       "      <th>day</th>\n",
       "      <th>hour</th>\n",
       "      <th>month</th>\n",
       "      <th>season_Spring</th>\n",
       "      <th>season_Summer</th>\n",
       "      <th>season_Winter</th>\n",
       "      <th>weather_ Heavy Rain + Thunderstorm</th>\n",
       "      <th>weather_ Light Snow, Light Rain</th>\n",
       "      <th>weather_ Mist + Cloudy</th>\n",
       "    </tr>\n",
       "  </thead>\n",
       "  <tbody>\n",
       "    <tr>\n",
       "      <th>0</th>\n",
       "      <td>0</td>\n",
       "      <td>1</td>\n",
       "      <td>22.14</td>\n",
       "      <td>25.76</td>\n",
       "      <td>77</td>\n",
       "      <td>16.9979</td>\n",
       "      <td>2</td>\n",
       "      <td>19</td>\n",
       "      <td>5</td>\n",
       "      <td>0</td>\n",
       "      <td>1</td>\n",
       "      <td>0</td>\n",
       "      <td>0</td>\n",
       "      <td>0</td>\n",
       "      <td>0</td>\n",
       "    </tr>\n",
       "  </tbody>\n",
       "</table>\n",
       "</div>"
      ],
      "text/plain": [
       "   holiday  workingday   temp  atemp  humidity  windspeed  day  hour  month  \\\n",
       "0        0           1  22.14  25.76        77    16.9979    2    19      5   \n",
       "\n",
       "   season_Spring  season_Summer  season_Winter  \\\n",
       "0              0              1              0   \n",
       "\n",
       "   weather_ Heavy Rain + Thunderstorm   weather_ Light Snow, Light Rain  \\\n",
       "0                                    0                                0   \n",
       "\n",
       "   weather_ Mist + Cloudy   \n",
       "0                        0  "
      ]
     },
     "execution_count": 19,
     "metadata": {},
     "output_type": "execute_result"
    }
   ],
   "source": [
    "X_train.head(1)"
   ]
  },
  {
   "cell_type": "code",
   "execution_count": 20,
   "metadata": {},
   "outputs": [
    {
     "data": {
      "text/html": [
       "<div>\n",
       "<style scoped>\n",
       "    .dataframe tbody tr th:only-of-type {\n",
       "        vertical-align: middle;\n",
       "    }\n",
       "\n",
       "    .dataframe tbody tr th {\n",
       "        vertical-align: top;\n",
       "    }\n",
       "\n",
       "    .dataframe thead th {\n",
       "        text-align: right;\n",
       "    }\n",
       "</style>\n",
       "<table border=\"1\" class=\"dataframe\">\n",
       "  <thead>\n",
       "    <tr style=\"text-align: right;\">\n",
       "      <th></th>\n",
       "      <th>holiday</th>\n",
       "      <th>workingday</th>\n",
       "      <th>temp</th>\n",
       "      <th>atemp</th>\n",
       "      <th>humidity</th>\n",
       "      <th>windspeed</th>\n",
       "      <th>day</th>\n",
       "      <th>hour</th>\n",
       "      <th>month</th>\n",
       "      <th>season_Spring</th>\n",
       "      <th>season_Summer</th>\n",
       "      <th>season_Winter</th>\n",
       "      <th>weather_ Heavy Rain + Thunderstorm</th>\n",
       "      <th>weather_ Light Snow, Light Rain</th>\n",
       "      <th>weather_ Mist + Cloudy</th>\n",
       "    </tr>\n",
       "  </thead>\n",
       "  <tbody>\n",
       "    <tr>\n",
       "      <th>0</th>\n",
       "      <td>0</td>\n",
       "      <td>1</td>\n",
       "      <td>21.32</td>\n",
       "      <td>25.0</td>\n",
       "      <td>48</td>\n",
       "      <td>35.0008</td>\n",
       "      <td>3</td>\n",
       "      <td>11</td>\n",
       "      <td>5</td>\n",
       "      <td>0</td>\n",
       "      <td>1</td>\n",
       "      <td>0</td>\n",
       "      <td>0.0</td>\n",
       "      <td>0</td>\n",
       "      <td>0</td>\n",
       "    </tr>\n",
       "  </tbody>\n",
       "</table>\n",
       "</div>"
      ],
      "text/plain": [
       "   holiday  workingday   temp  atemp  humidity  windspeed  day  hour  month  \\\n",
       "0        0           1  21.32   25.0        48    35.0008    3    11      5   \n",
       "\n",
       "   season_Spring  season_Summer  season_Winter  \\\n",
       "0              0              1              0   \n",
       "\n",
       "   weather_ Heavy Rain + Thunderstorm   weather_ Light Snow, Light Rain  \\\n",
       "0                                  0.0                                0   \n",
       "\n",
       "   weather_ Mist + Cloudy   \n",
       "0                        0  "
      ]
     },
     "execution_count": 20,
     "metadata": {},
     "output_type": "execute_result"
    }
   ],
   "source": [
    "X_test.head(1)"
   ]
  },
  {
   "cell_type": "code",
   "execution_count": 21,
   "metadata": {},
   "outputs": [],
   "source": [
    "X_test['weather_ Heavy Rain + Thunderstorm '] =X_test['weather_ Heavy Rain + Thunderstorm '].astype(int)"
   ]
  },
  {
   "cell_type": "code",
   "execution_count": 22,
   "metadata": {
    "scrolled": true
   },
   "outputs": [
    {
     "data": {
      "text/html": [
       "<div>\n",
       "<style scoped>\n",
       "    .dataframe tbody tr th:only-of-type {\n",
       "        vertical-align: middle;\n",
       "    }\n",
       "\n",
       "    .dataframe tbody tr th {\n",
       "        vertical-align: top;\n",
       "    }\n",
       "\n",
       "    .dataframe thead th {\n",
       "        text-align: right;\n",
       "    }\n",
       "</style>\n",
       "<table border=\"1\" class=\"dataframe\">\n",
       "  <thead>\n",
       "    <tr style=\"text-align: right;\">\n",
       "      <th></th>\n",
       "      <th>holiday</th>\n",
       "      <th>workingday</th>\n",
       "      <th>temp</th>\n",
       "      <th>atemp</th>\n",
       "      <th>humidity</th>\n",
       "      <th>windspeed</th>\n",
       "      <th>day</th>\n",
       "      <th>hour</th>\n",
       "      <th>month</th>\n",
       "      <th>season_Spring</th>\n",
       "      <th>season_Summer</th>\n",
       "      <th>season_Winter</th>\n",
       "      <th>weather_ Heavy Rain + Thunderstorm</th>\n",
       "      <th>weather_ Light Snow, Light Rain</th>\n",
       "      <th>weather_ Mist + Cloudy</th>\n",
       "    </tr>\n",
       "  </thead>\n",
       "  <tbody>\n",
       "    <tr>\n",
       "      <th>0</th>\n",
       "      <td>0</td>\n",
       "      <td>1</td>\n",
       "      <td>21.32</td>\n",
       "      <td>25.0</td>\n",
       "      <td>48</td>\n",
       "      <td>35.0008</td>\n",
       "      <td>3</td>\n",
       "      <td>11</td>\n",
       "      <td>5</td>\n",
       "      <td>0</td>\n",
       "      <td>1</td>\n",
       "      <td>0</td>\n",
       "      <td>0</td>\n",
       "      <td>0</td>\n",
       "      <td>0</td>\n",
       "    </tr>\n",
       "  </tbody>\n",
       "</table>\n",
       "</div>"
      ],
      "text/plain": [
       "   holiday  workingday   temp  atemp  humidity  windspeed  day  hour  month  \\\n",
       "0        0           1  21.32   25.0        48    35.0008    3    11      5   \n",
       "\n",
       "   season_Spring  season_Summer  season_Winter  \\\n",
       "0              0              1              0   \n",
       "\n",
       "   weather_ Heavy Rain + Thunderstorm   weather_ Light Snow, Light Rain  \\\n",
       "0                                    0                                0   \n",
       "\n",
       "   weather_ Mist + Cloudy   \n",
       "0                        0  "
      ]
     },
     "execution_count": 22,
     "metadata": {},
     "output_type": "execute_result"
    }
   ],
   "source": [
    "X_test.head(1)"
   ]
  },
  {
   "cell_type": "code",
   "execution_count": 23,
   "metadata": {},
   "outputs": [],
   "source": [
    "# i will drop holiday and atemp columns because they are highely corelated with working day and temp respectively\n",
    "X_train.drop(['holiday','atemp'],axis=1,inplace=True)\n",
    "X_test.drop(['holiday','atemp'],axis=1,inplace=True)"
   ]
  },
  {
   "cell_type": "code",
   "execution_count": 24,
   "metadata": {},
   "outputs": [
    {
     "name": "stdout",
     "output_type": "stream",
     "text": [
      "Index(['workingday', 'temp', 'humidity', 'windspeed', 'day', 'hour', 'month',\n",
      "       'season_Spring', 'season_Summer', 'season_Winter',\n",
      "       'weather_ Heavy Rain + Thunderstorm ',\n",
      "       'weather_ Light Snow, Light Rain', 'weather_ Mist + Cloudy '],\n",
      "      dtype='object')\n"
     ]
    }
   ],
   "source": [
    "print(X_test.columns)"
   ]
  },
  {
   "cell_type": "markdown",
   "metadata": {},
   "source": [
    "# Model Building"
   ]
  },
  {
   "cell_type": "markdown",
   "metadata": {},
   "source": [
    "#### From eda i observed that its batter to use models which are robust to outliers and non linears\n",
    "let us see by trying"
   ]
  },
  {
   "cell_type": "code",
   "execution_count": 35,
   "metadata": {},
   "outputs": [],
   "source": [
    "from sklearn.linear_model import LinearRegression\n",
    "from sklearn.tree import DecisionTreeRegressor\n",
    "from sklearn.ensemble import RandomForestRegressor,GradientBoostingRegressor,AdaBoostRegressor\n",
    "from sklearn.svm import SVR\n",
    "from sklearn.neighbors import KNeighborsRegressor\n",
    "from xgboost import XGBRegressor"
   ]
  },
  {
   "cell_type": "code",
   "execution_count": 36,
   "metadata": {},
   "outputs": [],
   "source": [
    "lr = LinearRegression()\n",
    "dt=DecisionTreeRegressor()\n",
    "rf=RandomForestRegressor()\n",
    "xgb = XGBRegressor()\n",
    "knn = KNeighborsRegressor()\n",
    "svm=SVR()\n",
    "\n",
    "models = {'lr':lr,\n",
    "         'dt':dt,\n",
    "         'rf':rf,\n",
    "         'xgb':xgb,\n",
    "         'knn':knn,\n",
    "         'svm':svm}"
   ]
  },
  {
   "cell_type": "code",
   "execution_count": 37,
   "metadata": {},
   "outputs": [
    {
     "name": "stdout",
     "output_type": "stream",
     "text": [
      "lr : 0.35 0.35\n",
      "dt : 1.0 0.76\n",
      "rf : 0.98 0.87\n",
      "xgb : 0.95 0.89\n",
      "knn : 0.73 0.6\n",
      "svm : 0.24 0.26\n"
     ]
    }
   ],
   "source": [
    "for name,model in models.items():\n",
    "    model.fit(X_train,y_train)\n",
    "    print(name,':',np.round(model.score(X_train,y_train),2),np.round(model.score(X_test,y_test),2))"
   ]
  },
  {
   "cell_type": "markdown",
   "metadata": {},
   "source": [
    "#### xgboost and randomforest is giving higher accuracy than other models so i will do hyperparameter tuning on both the models"
   ]
  },
  {
   "cell_type": "code",
   "execution_count": 38,
   "metadata": {},
   "outputs": [],
   "source": [
    "param = {'n_estimators':[20,40,60,100],\n",
    "         'max_depth':[5,8,12,14,16],\n",
    "        'max_features':['auto','sqrt'],\n",
    "        'min_samples_leaf':[1, 2],\n",
    "        'min_samples_split':[2, 5,]}"
   ]
  },
  {
   "cell_type": "code",
   "execution_count": 39,
   "metadata": {},
   "outputs": [
    {
     "name": "stdout",
     "output_type": "stream",
     "text": [
      "Fitting 2 folds for each of 160 candidates, totalling 320 fits\n"
     ]
    },
    {
     "name": "stderr",
     "output_type": "stream",
     "text": [
      "[Parallel(n_jobs=-1)]: Using backend LokyBackend with 4 concurrent workers.\n",
      "[Parallel(n_jobs=-1)]: Done  33 tasks      | elapsed:    4.2s\n",
      "[Parallel(n_jobs=-1)]: Done 154 tasks      | elapsed:   14.3s\n",
      "[Parallel(n_jobs=-1)]: Done 320 out of 320 | elapsed:   33.2s finished\n"
     ]
    },
    {
     "data": {
      "text/plain": [
       "GridSearchCV(cv=2, estimator=RandomForestRegressor(), n_jobs=-1,\n",
       "             param_grid={'max_depth': [5, 8, 12, 14, 16],\n",
       "                         'max_features': ['auto', 'sqrt'],\n",
       "                         'min_samples_leaf': [1, 2],\n",
       "                         'min_samples_split': [2, 5],\n",
       "                         'n_estimators': [20, 40, 60, 100]},\n",
       "             verbose=2)"
      ]
     },
     "execution_count": 39,
     "metadata": {},
     "output_type": "execute_result"
    }
   ],
   "source": [
    "rf=RandomForestRegressor()\n",
    "cv=GridSearchCV(rf,param_grid=param,cv=2,n_jobs=-1,verbose=2)\n",
    "cv.fit(X_train,y_train)"
   ]
  },
  {
   "cell_type": "code",
   "execution_count": 40,
   "metadata": {},
   "outputs": [
    {
     "data": {
      "text/plain": [
       "{'max_depth': 16,\n",
       " 'max_features': 'auto',\n",
       " 'min_samples_leaf': 1,\n",
       " 'min_samples_split': 2,\n",
       " 'n_estimators': 100}"
      ]
     },
     "execution_count": 40,
     "metadata": {},
     "output_type": "execute_result"
    }
   ],
   "source": [
    "cv.best_params_"
   ]
  },
  {
   "cell_type": "code",
   "execution_count": 41,
   "metadata": {},
   "outputs": [
    {
     "name": "stdout",
     "output_type": "stream",
     "text": [
      "0.87\n"
     ]
    }
   ],
   "source": [
    "print(np.round(cv.score(X_test,y_test),2))"
   ]
  },
  {
   "cell_type": "markdown",
   "metadata": {},
   "source": [
    "#### random forest doesnot making any differnce in accuracy after tuning lets try tuning for xgb"
   ]
  },
  {
   "cell_type": "code",
   "execution_count": 42,
   "metadata": {},
   "outputs": [],
   "source": [
    "xgb_param = {\"n_estimators\":[20,40,60,90,100],\n",
    "             \"learning_rate\": [0.05, 0.10, 0.20,0.30 ],\n",
    "             \"max_depth\": [5, 6, 8,12, 15],\n",
    "             \"min_child_weight\": [ 1, 3, 5 ],\n",
    "             \"gamma\": [ 0.0, 0.1, 0.2 ],}"
   ]
  },
  {
   "cell_type": "code",
   "execution_count": 43,
   "metadata": {},
   "outputs": [
    {
     "name": "stdout",
     "output_type": "stream",
     "text": [
      "Fitting 2 folds for each of 900 candidates, totalling 1800 fits\n"
     ]
    },
    {
     "name": "stderr",
     "output_type": "stream",
     "text": [
      "[Parallel(n_jobs=-1)]: Using backend LokyBackend with 4 concurrent workers.\n",
      "[Parallel(n_jobs=-1)]: Done  33 tasks      | elapsed:    2.3s\n",
      "[Parallel(n_jobs=-1)]: Done 154 tasks      | elapsed:   16.6s\n",
      "[Parallel(n_jobs=-1)]: Done 357 tasks      | elapsed:   35.0s\n",
      "[Parallel(n_jobs=-1)]: Done 640 tasks      | elapsed:  1.1min\n",
      "[Parallel(n_jobs=-1)]: Done 1005 tasks      | elapsed:  1.7min\n",
      "[Parallel(n_jobs=-1)]: Done 1450 tasks      | elapsed:  2.5min\n",
      "[Parallel(n_jobs=-1)]: Done 1800 out of 1800 | elapsed:  3.3min finished\n"
     ]
    },
    {
     "data": {
      "text/plain": [
       "GridSearchCV(cv=2,\n",
       "             estimator=XGBRegressor(base_score=None, booster=None,\n",
       "                                    colsample_bylevel=None,\n",
       "                                    colsample_bynode=None,\n",
       "                                    colsample_bytree=None, gamma=None,\n",
       "                                    gpu_id=None, importance_type='gain',\n",
       "                                    interaction_constraints=None,\n",
       "                                    learning_rate=None, max_delta_step=None,\n",
       "                                    max_depth=None, min_child_weight=None,\n",
       "                                    missing=nan, monotone_constraints=None,\n",
       "                                    n_estimators=100, n_jobs=None,\n",
       "                                    num_parallel_tree=None, random_state=None,\n",
       "                                    reg_alpha=None, reg_lambda=None,\n",
       "                                    scale_pos_weight=None, subsample=None,\n",
       "                                    tree_method=None, validate_parameters=None,\n",
       "                                    verbosity=None),\n",
       "             n_jobs=-1,\n",
       "             param_grid={'gamma': [0.0, 0.1, 0.2],\n",
       "                         'learning_rate': [0.05, 0.1, 0.2, 0.3],\n",
       "                         'max_depth': [5, 6, 8, 12, 15],\n",
       "                         'min_child_weight': [1, 3, 5],\n",
       "                         'n_estimators': [20, 40, 60, 90, 100]},\n",
       "             verbose=2)"
      ]
     },
     "execution_count": 43,
     "metadata": {},
     "output_type": "execute_result"
    }
   ],
   "source": [
    "xgb=XGBRegressor()\n",
    "cv_xgb=GridSearchCV(xgb,param_grid=xgb_param,cv=2,n_jobs=-1,verbose=2)\n",
    "cv_xgb.fit(X_train,y_train)"
   ]
  },
  {
   "cell_type": "code",
   "execution_count": 44,
   "metadata": {},
   "outputs": [
    {
     "data": {
      "text/plain": [
       "{'gamma': 0.0,\n",
       " 'learning_rate': 0.2,\n",
       " 'max_depth': 6,\n",
       " 'min_child_weight': 3,\n",
       " 'n_estimators': 100}"
      ]
     },
     "execution_count": 44,
     "metadata": {},
     "output_type": "execute_result"
    }
   ],
   "source": [
    "cv_xgb.best_params_"
   ]
  },
  {
   "cell_type": "code",
   "execution_count": 45,
   "metadata": {},
   "outputs": [
    {
     "data": {
      "text/plain": [
       "0.8835849810140254"
      ]
     },
     "execution_count": 45,
     "metadata": {},
     "output_type": "execute_result"
    }
   ],
   "source": [
    "cv_xgb.score(X_test,y_test)"
   ]
  },
  {
   "cell_type": "markdown",
   "metadata": {},
   "source": [
    "#### Because there is no difference between the accuracy before and after the gridsearch it means base parameters were best so now i will use xgb as my model......"
   ]
  },
  {
   "cell_type": "code",
   "execution_count": 46,
   "metadata": {},
   "outputs": [],
   "source": [
    "xgbb=XGBRegressor()\n",
    "xgb.fit(X_train,y_train)\n",
    "r2_score=np.round(xgb.score(X_test,y_test),2) #using upper base model not using grid model....."
   ]
  },
  {
   "cell_type": "markdown",
   "metadata": {},
   "source": [
    "## model evaluation"
   ]
  },
  {
   "cell_type": "code",
   "execution_count": 47,
   "metadata": {},
   "outputs": [
    {
     "name": "stdout",
     "output_type": "stream",
     "text": [
      "0.89\n"
     ]
    }
   ],
   "source": [
    "print(r2_score)"
   ]
  },
  {
   "cell_type": "code",
   "execution_count": 40,
   "metadata": {},
   "outputs": [
    {
     "data": {
      "text/html": [
       "<div>\n",
       "<style scoped>\n",
       "    .dataframe tbody tr th:only-of-type {\n",
       "        vertical-align: middle;\n",
       "    }\n",
       "\n",
       "    .dataframe tbody tr th {\n",
       "        vertical-align: top;\n",
       "    }\n",
       "\n",
       "    .dataframe thead th {\n",
       "        text-align: right;\n",
       "    }\n",
       "</style>\n",
       "<table border=\"1\" class=\"dataframe\">\n",
       "  <thead>\n",
       "    <tr style=\"text-align: right;\">\n",
       "      <th></th>\n",
       "      <th>workingday</th>\n",
       "      <th>temp</th>\n",
       "      <th>humidity</th>\n",
       "      <th>windspeed</th>\n",
       "      <th>day</th>\n",
       "      <th>hour</th>\n",
       "      <th>month</th>\n",
       "      <th>season_Spring</th>\n",
       "      <th>season_Summer</th>\n",
       "      <th>season_Winter</th>\n",
       "      <th>weather_ Heavy Rain + Thunderstorm</th>\n",
       "      <th>weather_ Light Snow, Light Rain</th>\n",
       "      <th>weather_ Mist + Cloudy</th>\n",
       "    </tr>\n",
       "  </thead>\n",
       "  <tbody>\n",
       "    <tr>\n",
       "      <th>0</th>\n",
       "      <td>1</td>\n",
       "      <td>21.32</td>\n",
       "      <td>48</td>\n",
       "      <td>35.0008</td>\n",
       "      <td>3</td>\n",
       "      <td>11</td>\n",
       "      <td>5</td>\n",
       "      <td>0</td>\n",
       "      <td>1</td>\n",
       "      <td>0</td>\n",
       "      <td>0</td>\n",
       "      <td>0</td>\n",
       "      <td>0</td>\n",
       "    </tr>\n",
       "  </tbody>\n",
       "</table>\n",
       "</div>"
      ],
      "text/plain": [
       "   workingday   temp  humidity  windspeed  day  hour  month  season_Spring  \\\n",
       "0           1  21.32        48    35.0008    3    11      5              0   \n",
       "\n",
       "   season_Summer  season_Winter  weather_ Heavy Rain + Thunderstorm   \\\n",
       "0              1              0                                    0   \n",
       "\n",
       "   weather_ Light Snow, Light Rain  weather_ Mist + Cloudy   \n",
       "0                                0                        0  "
      ]
     },
     "execution_count": 40,
     "metadata": {},
     "output_type": "execute_result"
    }
   ],
   "source": [
    "X_test.head(1)"
   ]
  },
  {
   "cell_type": "code",
   "execution_count": 48,
   "metadata": {},
   "outputs": [],
   "source": [
    "y_pred=xgb.predict(X_test)"
   ]
  },
  {
   "cell_type": "code",
   "execution_count": 49,
   "metadata": {},
   "outputs": [
    {
     "data": {
      "text/plain": [
       "<matplotlib.collections.PathCollection at 0x28b059ff220>"
      ]
     },
     "execution_count": 49,
     "metadata": {},
     "output_type": "execute_result"
    },
    {
     "data": {
      "image/png": "[encoded data removed]",
      "text/plain": [
       "<Figure size 432x288 with 1 Axes>"
      ]
     },
     "metadata": {
      "needs_background": "light"
     },
     "output_type": "display_data"
    }
   ],
   "source": [
    "plt.scatter(y_test,y_pred)"
   ]
  },
  {
   "cell_type": "code",
   "execution_count": 50,
   "metadata": {},
   "outputs": [
    {
     "data": {
      "text/plain": [
       "<matplotlib.axes._subplots.AxesSubplot at 0x28b05d67cd0>"
      ]
     },
     "execution_count": 50,
     "metadata": {},
     "output_type": "execute_result"
    },
    {
     "data": {
      "image/png": "[encoded data removed]",
      "text/plain": [
       "<Figure size 432x288 with 1 Axes>"
      ]
     },
     "metadata": {
      "needs_background": "light"
     },
     "output_type": "display_data"
    }
   ],
   "source": [
    "sns.distplot(y_test.values-y_pred)"
   ]
  },
  {
   "cell_type": "markdown",
   "metadata": {},
   "source": [
    "### save pickle file"
   ]
  },
  {
   "cell_type": "code",
   "execution_count": 26,
   "metadata": {},
   "outputs": [],
   "source": [
    "import pickle\n",
    "with open('xgboost.pickle','wb') as f:\n",
    "    pickle.dump(xgb,f)"
   ]
  },
  {
   "cell_type": "code",
   "execution_count": 29,
   "metadata": {},
   "outputs": [],
   "source": [
    "# load model for checking\n",
    "with open('xgboost.pickle','rb') as f:\n",
    "    model=pickle.load(f)"
   ]
  },
  {
   "cell_type": "code",
   "execution_count": 53,
   "metadata": {},
   "outputs": [
    {
     "data": {
      "text/plain": [
       "0.89"
      ]
     },
     "execution_count": 53,
     "metadata": {},
     "output_type": "execute_result"
    }
   ],
   "source": [
    "np.round(model.score(X_test,y_test),2)"
   ]
  },
  {
   "cell_type": "code",
   "execution_count": 54,
   "metadata": {},
   "outputs": [],
   "source": [
    "# saving features\n",
    "predictors=pd.DataFrame(X_train.columns)"
   ]
  },
  {
   "cell_type": "code",
   "execution_count": 78,
   "metadata": {},
   "outputs": [],
   "source": [
    "Predictors.to_csv('pred.csv',index=False)"
   ]
  },
  {
   "cell_type": "markdown",
   "metadata": {},
   "source": [
    "# By adding year feature i can increase accuracy upto 93% but according to me taking past years as featurs is not a right approach"
   ]
  }
 ],
 "metadata": {
  "kernelspec": {
   "display_name": "Python 3",
   "language": "python",
   "name": "python3"
  },
  "language_info": {
   "codemirror_mode": {
    "name": "ipython",
    "version": 3
   },
   "file_extension": ".py",
   "mimetype": "text/x-python",
   "name": "python",
   "nbconvert_exporter": "python",
   "pygments_lexer": "ipython3",
   "version": "3.8.3"
  }
 },
 "nbformat": 4,
 "nbformat_minor": 4
}
